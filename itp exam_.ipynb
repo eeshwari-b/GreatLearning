{
 "cells": [
  {
   "cell_type": "markdown",
   "metadata": {},
   "source": [
    "1.A The e-commerce business vertical of Amazon – a multinational technology company\n",
    "based in Seattle, has determined that its annual profit is normally 33 percent of its total\n",
    "sales revenue.\n",
    "Write a python program that takes the sales revenue as user input and returns the profit for\n",
    "Amazon.\n",
    "Note: Use the value 0.33 to represent 33 percent\n",
    "Sample Input: 65436 Sample Output: $21,593.88"
   ]
  },
  {
   "cell_type": "code",
   "execution_count": 22,
   "metadata": {},
   "outputs": [
    {
     "name": "stdout",
     "output_type": "stream",
     "text": [
      "Enter Sales Revenue ($): 65436\n",
      "Profit For Amazon is $ 21593.88\n"
     ]
    }
   ],
   "source": [
    "a=int(input('Enter Sales Revenue ($): '))\n",
    "P=0.33\n",
    "Output=(P*a)\n",
    "print('Profit For Amazon is $',Output)"
   ]
  },
  {
   "cell_type": "markdown",
   "metadata": {},
   "source": [
    "1.B The acre is a unit used to measure land in the imperial and US customary systems. One\n",
    "acre of land is equal to 43,560 square feet.\n",
    "Write a python program that accepts the measure of land in square feet and returns the\n",
    "measure in acres.\n",
    "Sample Input: 875687 Sample Output: 20.10"
   ]
  },
  {
   "cell_type": "code",
   "execution_count": 23,
   "metadata": {},
   "outputs": [
    {
     "name": "stdout",
     "output_type": "stream",
     "text": [
      "Enter measure in Sft: 875687\n",
      "Measure of 875687  Square Feet in Acres = 20.103007346189166\n"
     ]
    }
   ],
   "source": [
    "a=int(input('Enter measure in Sft: '))\n",
    "Acre=43560\n",
    "print('Measure of',a,' Square Feet in Acres =',a/Acre)"
   ]
  },
  {
   "cell_type": "markdown",
   "metadata": {},
   "source": [
    "2. James Deen is an investor specializing in the Technology Domain. James purchases stock in\n",
    "successful technology companies using a stockbroker and later sells them at a profit margin.\n",
    "As part of his investment portfolio, James purchased 2000 units of stock in Google LLC worth\n",
    "$80,000 ($40 apiece) in the month of November, 2019. The stockbroker charged 3%\n",
    "commission on the total purchase value of the stocks.\n",
    "A month later, James sells his entire stock holding in Google LLC for $42.75 apiece. He pays a\n",
    "commission of 3% on this transaction as well to his stockbroker.\n",
    "\n",
    "Write a Python program that returns the following output:\n",
    "1. The cost of purchasing the entire stock holding in Google LLC\n",
    "2. The amount of money paid in commission during the purchase\n",
    "3. The selling price of the entire stock holding in Google LLC\n",
    "4. The amount of money paid in commission during the sale\n",
    "\n",
    "5. The profit margin made by James in the entire transaction (purchase & sale, including\n",
    "commissions paid)"
   ]
  },
  {
   "cell_type": "code",
   "execution_count": 5,
   "metadata": {},
   "outputs": [
    {
     "name": "stdout",
     "output_type": "stream",
     "text": [
      "Cost of purchasing stocks:$ 80000\n",
      "Total cost incurred including commission: $ 82400.0\n"
     ]
    }
   ],
   "source": [
    "#cost of purchasing the entire stock holding in Google LLC\n",
    " \n",
    "stckbuy1=40\n",
    "totalstocks=2000\n",
    "cost=stckbuy1*totalstocks\n",
    "totalcost=cost+(0.03*cost)\n",
    "print(\"Cost of purchasing stocks:$\",cost)\n",
    "print('Total cost incurred including commission: $', totalcost)\n"
   ]
  },
  {
   "cell_type": "code",
   "execution_count": 6,
   "metadata": {},
   "outputs": [
    {
     "name": "stdout",
     "output_type": "stream",
     "text": [
      "Money paid as commission:$ 2400.0\n"
     ]
    }
   ],
   "source": [
    "#Commission\n",
    "\n",
    "print('Money paid as commission:$',0.03*cost)"
   ]
  },
  {
   "cell_type": "code",
   "execution_count": 7,
   "metadata": {},
   "outputs": [
    {
     "name": "stdout",
     "output_type": "stream",
     "text": [
      "Selling price:$ 85500.0\n"
     ]
    }
   ],
   "source": [
    "#Selling price\n",
    "sold=42.75\n",
    "x=sold*totalstocks\n",
    "print('Selling price:$',x)"
   ]
  },
  {
   "cell_type": "code",
   "execution_count": 8,
   "metadata": {},
   "outputs": [
    {
     "name": "stdout",
     "output_type": "stream",
     "text": [
      "Money paid as commission during sell:$ 2565.0\n"
     ]
    }
   ],
   "source": [
    "#commission paid at sell\n",
    "print('Money paid as commission during sell:$',0.03*x)"
   ]
  },
  {
   "cell_type": "code",
   "execution_count": 9,
   "metadata": {},
   "outputs": [
    {
     "name": "stdout",
     "output_type": "stream",
     "text": [
      "James got a profit of $ 535.0  after paying commision charges for selling stocks\n"
     ]
    }
   ],
   "source": [
    "#profit\n",
    "\n",
    "costincurred=cost+(0.03*cost)+(0.03*x)\n",
    "sellprice=x\n",
    "profit=sellprice-costincurred\n",
    "print('James got a profit of $',profit,' after paying commision charges for selling stocks')"
   ]
  },
  {
   "cell_type": "markdown",
   "metadata": {},
   "source": [
    " Ernest Shackleton led the Nimrod Expedition to within 97 nautical miles of the pole for the\n",
    "first time in history on the 9th of January,1909. An additional interesting fact about the date\n",
    "is that when expressed in the format MM/DD/YY, Month times the Day equals the Year!\n",
    "(MM * DD = YY)\n",
    "\n",
    "Write a Python program that prompts the user to input the following:\n",
    "1. Month of the Year in MM format (1-12, numeric format)\n",
    "2. Day of the Month in DD format (1-31, numeric format)\n",
    "3. Year in YY format (last 2 digits of the year, numeric format)\n",
    "The program should return “Magical Year!” if the Month times the Day equals the Year else\n",
    "“Non Magical Year”"
   ]
  },
  {
   "cell_type": "code",
   "execution_count": 19,
   "metadata": {},
   "outputs": [
    {
     "name": "stdout",
     "output_type": "stream",
     "text": [
      "Enter Month(MM):  01\n",
      "Enter Date(DD): 09\n",
      "Enter Year(YY): 09\n",
      "Please enter Last 2 digits of Year in YY format\n",
      "Magical Year!\n"
     ]
    }
   ],
   "source": [
    "a=int(input('Enter Month(MM):  '))\n",
    "if(a<0 or a>12):\n",
    "    print('Please enter Month(1-12) in format: MM')\n",
    "    \n",
    "b=int(input('Enter Date(DD): '))\n",
    "if(b<0 or b>31):\n",
    "    print('Please enter Date(1-31) in format: DD')\n",
    "    \n",
    "c=int(input('Enter Year(YY): '))\n",
    "if(c<10 or c>99):\n",
    "    print('Please enter Last 2 digits of Year in YY format')\n",
    "\n",
    "\n",
    "if((a*b)==c):\n",
    "    print('Magical Year!')\n",
    "else:\n",
    "    print('Non Magical Year')\n",
    "    "
   ]
  },
  {
   "cell_type": "markdown",
   "metadata": {},
   "source": [
    " Red, Yellow & Blue, known as primary colours, can be mixed to produce all other colours in\n",
    "the visible spectrum. When Red & Blue is mixed, we get Purple. When Red & Yellow are mixed,\n",
    "we get Orange. When Blue & Yellow are mixed, we get Green. The resulting colours are called\n",
    "secondary colours.\n",
    "\n",
    "Design a program that prompts the user to enter any two primary colours to mix. The program\n",
    "should return the resulting secondary colour. In the case when the user provides any colour\n",
    "that is not a primary colour as input, the program should return “Error: Please enter a primary\n",
    "colour!”\n",
    "\n",
    "Sample Input: Red, Blue Sample Output: Purple"
   ]
  },
  {
   "cell_type": "code",
   "execution_count": 21,
   "metadata": {},
   "outputs": [
    {
     "name": "stdout",
     "output_type": "stream",
     "text": [
      "enter choice of primary colourRED\n",
      "enter choice of primary colourblUe\n",
      "Secondary colour is : Purple\n"
     ]
    }
   ],
   "source": [
    "a=input('enter choice of primary colour')\n",
    "b=input('enter choice of primary colour')\n",
    "a=a.title()\n",
    "b=b.title()\n",
    "\n",
    "if(a==b):\n",
    "    print('Please Enter two different colours')\n",
    "elif((a=='Red' or a=='Blue') and (b=='Red' or b=='Blue')):\n",
    "    print('Secondary colour is : Purple')\n",
    "elif((a=='Red' or a=='Yellow')and (b=='Red' or b=='Yellow')and (a!=b)):\n",
    "    print('Secondary colour is: Orange')\n",
    "elif((a=='Blue' or a=='Yellow')and (b=='Blue' or b=='Yellow')and (a!=b)):\n",
    "    print('Secondary colour is: Green')\n",
    "else:\n",
    "    print('Please enter a primary Colour')\n",
    "    "
   ]
  },
  {
   "cell_type": "code",
   "execution_count": null,
   "metadata": {},
   "outputs": [],
   "source": []
  },
  {
   "cell_type": "code",
   "execution_count": null,
   "metadata": {},
   "outputs": [],
   "source": []
  }
 ],
 "metadata": {
  "kernelspec": {
   "display_name": "Python 3",
   "language": "python",
   "name": "python3"
  },
  "language_info": {
   "codemirror_mode": {
    "name": "ipython",
    "version": 3
   },
   "file_extension": ".py",
   "mimetype": "text/x-python",
   "name": "python",
   "nbconvert_exporter": "python",
   "pygments_lexer": "ipython3",
   "version": "3.7.4"
  }
 },
 "nbformat": 4,
 "nbformat_minor": 2
}
